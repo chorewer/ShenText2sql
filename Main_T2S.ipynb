{
 "cells": [
  {
   "cell_type": "code",
   "execution_count": 1,
   "metadata": {},
   "outputs": [
    {
     "name": "stdout",
     "output_type": "stream",
     "text": [
      "successful load embedding model\n"
     ]
    }
   ],
   "source": [
    "import re\n",
    "from langchain_core.messages import HumanMessage, AIMessage\n",
    "from langchain_community.utilities.sql_database import SQLDatabase\n",
    "from local_chain.selfQuery import create_sql_query_chain\n",
    "from langchain_community.tools.sql_database.tool import QuerySQLDataBaseTool\n",
    "from langchain_core.output_parsers import StrOutputParser\n",
    "from langchain_core.runnables import RunnablePassthrough, RunnableLambda\n",
    "from langchain_community.chat_message_histories import ChatMessageHistory\n",
    "from langchain_core.prompts import ChatPromptTemplate, MessagesPlaceholder,FewShotChatMessagePromptTemplate,PromptTemplate"
   ]
  },
  {
   "cell_type": "code",
   "execution_count": 2,
   "metadata": {},
   "outputs": [
    {
     "name": "stdout",
     "output_type": "stream",
     "text": [
      "本次数据库类型: postgresql\n",
      "可用的表格: ['assets', 'companies', 'contracts', 'debts', 'departments', 'employees', 'projects', 'transactions']\n"
     ]
    }
   ],
   "source": [
    "# 数据库连接信息\n",
    "db_user = \"postgres\"\n",
    "db_password = \"postgres\"  # 请更换成您的数据库密码\n",
    "db_host = \"localhost\"\n",
    "db_name = \"postgres\"\n",
    "\n",
    "# 初始化 langchain 的 SQLDatabase 连接\n",
    "# db = SQLDatabase.from_uri(f\"postgresql+psycopg2://{db_user}:{db_password}@{db_host}/{db_name}\")\n",
    "db = SQLDatabase.from_uri(f\"postgresql://{db_user}:{db_password}@{db_host}:5432/{db_name}\")\n",
    "# 输出数据库相关信息，以验证连接是否成功\n",
    "print(\"本次数据库类型:\", db.dialect)\n",
    "print(\"可用的表格:\", db.get_usable_table_names())\n",
    "# print(\"数据库信息：\",db.get_table_info())"
   ]
  },
  {
   "cell_type": "code",
   "execution_count": 3,
   "metadata": {},
   "outputs": [],
   "source": [
    "# clean query 的对于用户问题文本进行清洗\n",
    "def clean_query(query):\n",
    "    query = query.replace(\"SQLResult:\", \"\").replace(\"```\", \"\").replace(\"sql\", \"\").replace(\"SQLQuery:\", \"\").replace(\"SQL\", \"\").replace(\"Answer:\",\"\")\n",
    "    # colon_index = query.find(':')\n",
    "    # if colon_index != -1:\n",
    "    #     query = query[colon_index + 1:]\n",
    "    # colon_index_1 = query.find('：')\n",
    "    # if colon_index_1 != -1:\n",
    "    #     query = query[colon_index_1 + 1:]\n",
    "\n",
    "    # # 查找第一个大写的 SELECT，删除 SELECT 之前的所有内容\n",
    "    # select_match = re.search(r'SELECT', query)\n",
    "    # if select_match:\n",
    "    #     query = query[select_match.start():]\n",
    "    # # 查找 LIMIT 语句，确保是大写，并保留数字，删除其后的所有内容\n",
    "    # limit_match = re.search(r'LIMIT \\d+\\s*', query)\n",
    "    # if limit_match:\n",
    "    #     # 从数字后的空格开始删除\n",
    "    #     query = query[:limit_match.end()].strip()\n",
    "\n",
    "    # semicolon_index = query.find(';')\n",
    "    # if semicolon_index != -1:\n",
    "    #     query = query[:semicolon_index]\n",
    "\n",
    "    # 检查最末尾字符是否为英文句号或中文句号\n",
    "    while query.endswith('.') or query.endswith('。'):\n",
    "        # 向前找到最近的大写字母或中文字符\n",
    "        match = re.search(r'([A-Z]|[^\\x00-\\x7F])[^A-Z]*[。\\.]$', query)\n",
    "        if match:\n",
    "            # 删除从找到的字符到句号的所有内容\n",
    "            query = query[:match.start()]\n",
    "\n",
    "    return query.strip()  # 移除前后的空白字符以清洁结果"
   ]
  },
  {
   "cell_type": "code",
   "execution_count": 4,
   "metadata": {},
   "outputs": [],
   "source": [
    "import LLM_CUSTOM\n",
    "llm = LLM_CUSTOM.CustomLLM(n=10)"
   ]
  },
  {
   "cell_type": "code",
   "execution_count": 5,
   "metadata": {},
   "outputs": [],
   "source": [
    "# 创建数据库查询链\n",
    "from langchain_core.prompts import BasePromptTemplate\n",
    "template = '''\n",
    "Given an input question, create a syntactically correct {dialect} query to run. Use the following format to OutPut:\n",
    "\n",
    "SQLQuery: SQL Query to run\n",
    "\n",
    "limit the query's row to {top_k} unless user have clear instruction\n",
    "\n",
    "Pay attention to follow the relevant rules. \n",
    "\n",
    "{relevant_msg}\n",
    "\n",
    "Never query for all the columns from a specific table, only ask for a the few relevant columns given the question.\n",
    "\n",
    "Pay attention to use only the column names that you can see in the schema description. Be careful to not query for columns that do not exist. Also, pay attention to which column is in which table.\n",
    "\n",
    "Only use the following tables:\n",
    "\n",
    "{table_info}.\n",
    "\n",
    "You can order the results by a relevant column to return the most interesting examples in the database.\n",
    "\n",
    "\n",
    "Question: {input}\n",
    "'''\n",
    "\n",
    "prompt = PromptTemplate.from_template(template)\n",
    "generate_query = create_sql_query_chain(llm, db, prompt=prompt)\n",
    "\n",
    "execute_query = QuerySQLDataBaseTool(db=db)\n",
    "\n",
    "answer_prompt = PromptTemplate.from_template(\n",
    "    \"\"\"Given the following user question, corresponding SQL query, and SQL result, answer the user question.\n",
    "\n",
    "Question: {question}\n",
    "SQL Query: {query}\n",
    "SQL Result: {result}\n",
    "Answer: \n",
    "\"\"\"\n",
    ")\n",
    "\n",
    "\n",
    "# 定义链式调用\n",
    "chain = (\n",
    "    RunnableLambda(\n",
    "        lambda context: {\n",
    "            'query': generate_query.invoke(context), \n",
    "            'question': context['question'],\n",
    "            'print': print(\"源问题:\", context)\n",
    "        }) # 生成并清理查询，保持问题文本\n",
    "    |  \n",
    "    RunnableLambda(\n",
    "        lambda context: {\n",
    "            'query': clean_query(context['query']), \n",
    "            'question': context['question'],\n",
    "            'print': print(\"源生成答案:\", context['query'])\n",
    "        }) # 生成并清理查询，保持问题文本\n",
    "    |  \n",
    "    RunnableLambda(\n",
    "        lambda context: {\n",
    "            'query': context['query'], \n",
    "            'question': context['question'], \n",
    "            'print': print(\"SQL查询语句:\", context['query'])\n",
    "        }) # 打印查询，继续传递'query'和'question'\n",
    "    |  \n",
    "    RunnableLambda(\n",
    "        lambda context: {\n",
    "            'result': execute_query.invoke(context['query']), \n",
    "            'query': context['query'], \n",
    "            'question': context['question']\n",
    "        }) # 执行查询，维持'query', 'result'和'question'\n",
    "    |  \n",
    "    RunnableLambda(\n",
    "        lambda context: {\n",
    "            'question': context['question'], \n",
    "            'query': context['query'], \n",
    "            'result': context['result']\n",
    "        }) # 保持完整的上下文\n",
    "    |  \n",
    "    answer_prompt   # 应用最终的重构答案处理\n",
    "    | \n",
    "    llm\n",
    "    | \n",
    "    StrOutputParser() \n",
    ")"
   ]
  },
  {
   "cell_type": "code",
   "execution_count": 6,
   "metadata": {},
   "outputs": [],
   "source": [
    "import dashscope\n",
    "import os\n",
    "DASHSCOPE_API_KEY = os.getenv(\"DASHSCOPE_API_KEY\")\n",
    "dashscope.api_key=DASHSCOPE_API_KEY"
   ]
  },
  {
   "cell_type": "code",
   "execution_count": 8,
   "metadata": {},
   "outputs": [
    {
     "name": "stdout",
     "output_type": "stream",
     "text": [
      "text=\"\\nGiven an input question, create a syntactically correct postgresql query to run. Use the following format to OutPut:\\n\\nSQLQuery: SQL Query to run\\n\\nlimit the query's row to 5 unless user have clear instruction\\n\\nPay attention to follow the relevant rules. \\n\\nthe price column in the contracts table have been divide 10000, when compare with constant please multiply 10000 to recovery\\n    The unit of the revenue column in the companies table is RMB\\n    \\n    In the transaction table, the unit of total amount is yuan\\n    \\n\\nNever query for all the columns from a specific table, only ask for a the few relevant columns given the question.\\n\\nPay attention to use only the column names that you can see in the schema description. Be careful to not query for columns that do not exist. Also, pay attention to which column is in which table.\\n\\nOnly use the following tables:\\n\\n\\nCREATE TABLE assets (\\n\\tasset_id SERIAL NOT NULL, \\n\\tcompany_id INTEGER, \\n\\tdescription VARCHAR(255), \\n\\tpurchase_date DATE, \\n\\tcost NUMERIC, \\n\\tcondition VARCHAR(100), \\n\\tCONSTRAINT assets_pkey PRIMARY KEY (asset_id), \\n\\tCONSTRAINT assets_company_id_fkey FOREIGN KEY(company_id) REFERENCES companies (company_id)\\n)\\n\\n/*\\n3 rows from assets table:\\nasset_id\\tcompany_id\\tdescription\\tpurchase_date\\tcost\\tcondition\\n1\\t2\\tAsset 1\\t2019-01-02\\t12495\\tUsed\\n2\\t3\\tAsset 2\\t2019-01-03\\t128977\\tUsed\\n3\\t4\\tAsset 3\\t2019-01-04\\t81297\\tNew\\n*/\\n\\n\\nCREATE TABLE companies (\\n\\tcompany_id SERIAL NOT NULL, \\n\\tname VARCHAR(255), \\n\\taddress VARCHAR(255), \\n\\tindustry VARCHAR(100), \\n\\trevenue BIGINT, \\n\\tfounded_year INTEGER, \\n\\tCONSTRAINT companies_pkey PRIMARY KEY (company_id)\\n)\\n\\n/*\\n3 rows from companies table:\\ncompany_id\\tname\\taddress\\tindustry\\trevenue\\tfounded_year\\n1\\tCompany 1\\tAddress 1\\tIndustry 1\\t877894283\\t1981\\n2\\tCompany 2\\tAddress 2\\tIndustry 2\\t847036711\\t1982\\n3\\tCompany 3\\tAddress 3\\tIndustry 3\\t347334853\\t1983\\n*/\\n\\n\\nCREATE TABLE contracts (\\n\\tcontract_id SERIAL NOT NULL, \\n\\tcompany_id INTEGER, \\n\\tstart_date DATE, \\n\\tend_date DATE, \\n\\tvalue NUMERIC, \\n\\tterms TEXT, \\n\\tCONSTRAINT contracts_pkey PRIMARY KEY (contract_id), \\n\\tCONSTRAINT contracts_company_id_fkey FOREIGN KEY(company_id) REFERENCES companies (company_id)\\n)\\n\\n/*\\n3 rows from contracts table:\\ncontract_id\\tcompany_id\\tstart_date\\tend_date\\tvalue\\tterms\\n1\\t2\\t2020-01-02\\t2020-04-11\\t115474\\tTerms 1\\n2\\t3\\t2020-01-03\\t2020-04-12\\t268092\\tTerms 2\\n3\\t4\\t2020-01-04\\t2020-04-13\\t84704\\tTerms 3\\n*/\\n\\n\\nCREATE TABLE debts (\\n\\tdebt_id SERIAL NOT NULL, \\n\\tcompany_id INTEGER, \\n\\tamount NUMERIC, \\n\\tissue_date DATE, \\n\\tmaturity_date DATE, \\n\\tinterest_rate DOUBLE PRECISION, \\n\\tCONSTRAINT debts_pkey PRIMARY KEY (debt_id), \\n\\tCONSTRAINT debts_company_id_fkey FOREIGN KEY(company_id) REFERENCES companies (company_id)\\n)\\n\\n/*\\n3 rows from debts table:\\ndebt_id\\tcompany_id\\tamount\\tissue_date\\tmaturity_date\\tinterest_rate\\n1\\t2\\t393688\\t2018-01-02\\t2023-01-02\\t8.53905473402315\\n2\\t3\\t49473\\t2018-01-03\\t2023-01-03\\t1.2753679761741776\\n3\\t4\\t475419\\t2018-01-04\\t2023-01-04\\t7.008034279359727\\n*/\\n\\n\\nCREATE TABLE departments (\\n\\tdepartment_id SERIAL NOT NULL, \\n\\tcompany_id INTEGER, \\n\\tname VARCHAR(255), \\n\\tbudget NUMERIC, \\n\\tmanager_id INTEGER, \\n\\tlocation VARCHAR(255), \\n\\tCONSTRAINT departments_pkey PRIMARY KEY (department_id), \\n\\tCONSTRAINT departments_company_id_fkey FOREIGN KEY(company_id) REFERENCES companies (company_id), \\n\\tCONSTRAINT departments_manager_id_fkey FOREIGN KEY(manager_id) REFERENCES employees (employee_id)\\n)\\n\\n/*\\n3 rows from departments table:\\ndepartment_id\\tcompany_id\\tname\\tbudget\\tmanager_id\\tlocation\\n1\\t2\\tDepartment 1\\t317878\\t2\\tLocation 1\\n2\\t3\\tDepartment 2\\t494719\\t3\\tLocation 2\\n3\\t4\\tDepartment 3\\t155071\\t4\\tLocation 3\\n*/\\n\\n\\nCREATE TABLE employees (\\n\\temployee_id SERIAL NOT NULL, \\n\\tcompany_id INTEGER, \\n\\tname VARCHAR(255), \\n\\tposition VARCHAR(100), \\n\\tsalary NUMERIC, \\n\\thire_date DATE, \\n\\tCONSTRAINT employees_pkey PRIMARY KEY (employee_id), \\n\\tCONSTRAINT employees_company_id_fkey FOREIGN KEY(company_id) REFERENCES companies (company_id)\\n)\\n\\n/*\\n3 rows from employees table:\\nemployee_id\\tcompany_id\\tname\\tposition\\tsalary\\thire_date\\n1\\t2\\tEmployee 1\\tPosition 1\\t63136\\t2020-01-02\\n2\\t3\\tEmployee 2\\tPosition 2\\t15865\\t2020-01-03\\n3\\t4\\tEmployee 3\\tPosition 3\\t58179\\t2020-01-04\\n*/\\n\\n\\nCREATE TABLE projects (\\n\\tproject_id SERIAL NOT NULL, \\n\\tdepartment_id INTEGER, \\n\\tname VARCHAR(255), \\n\\tstart_date DATE, \\n\\tend_date DATE, \\n\\tbudget NUMERIC, \\n\\tCONSTRAINT projects_pkey PRIMARY KEY (project_id), \\n\\tCONSTRAINT projects_department_id_fkey FOREIGN KEY(department_id) REFERENCES departments (department_id)\\n)\\n\\n/*\\n3 rows from projects table:\\nproject_id\\tdepartment_id\\tname\\tstart_date\\tend_date\\tbudget\\n1\\t2\\tProject 1\\t2021-01-02\\t2021-04-12\\t36496\\n2\\t3\\tProject 2\\t2021-01-03\\t2021-04-13\\t43021\\n3\\t4\\tProject 3\\t2021-01-04\\t2021-04-14\\t66055\\n*/\\n\\n\\nCREATE TABLE transactions (\\n\\ttransaction_id SERIAL NOT NULL, \\n\\tasset_id INTEGER, \\n\\tdate DATE, \\n\\tamount NUMERIC, \\n\\ttype VARCHAR(50), \\n\\tCONSTRAINT transactions_pkey PRIMARY KEY (transaction_id), \\n\\tCONSTRAINT transactions_asset_id_fkey FOREIGN KEY(asset_id) REFERENCES assets (asset_id)\\n)\\n\\n/*\\n3 rows from transactions table:\\ntransaction_id\\tasset_id\\tdate\\tamount\\ttype\\n1\\t2\\t2022-01-02\\t4017\\tPurchase\\n2\\t3\\t2022-01-03\\t3264\\tSale\\n3\\t4\\t2022-01-04\\t1154\\tPurchase\\n*/.\\n\\nYou can order the results by a relevant column to return the most interesting examples in the database.\\n\\n\\nQuestion: Find The most recent time contract's value greater than 20 million yuan and find the name of the company that signed the contract\\nSQLQuery: \\n\"\n",
      "源问题: {'question': \"Find The most recent time contract's value greater than 20 million yuan and find the name of the company that signed the contract\"}\n",
      "源生成答案: SQLQuery: SELECT companies.name FROM companies JOIN contracts ON companies.company_id = contracts.company_id WHERE contracts.value * 10000 > 20000000 ORDER BY contracts.end_date DESC LIMIT 1\n",
      "SQL查询语句: SELECT companies.name FROM companies JOIN contracts ON companies.company_id = contracts.company_id WHERE contracts.value * 10000 > 20000000 ORDER BY contracts.end_date DESC LIMIT 1\n",
      "千问回答: The most recent contract with a value greater than 20 million yuan was signed by Company 365.\n"
     ]
    }
   ],
   "source": [
    "# 调用链以生成最终答案\n",
    "# 问题点 1  不同表中内容id重名 \n",
    "final_answer = chain.invoke({\"question\": \"Find The most recent time contract's value greater than 20 million yuan and find the name of the company that signed the contract\"})\n",
    "print(\"千问回答:\", final_answer)"
   ]
  }
 ],
 "metadata": {
  "kernelspec": {
   "display_name": "base",
   "language": "python",
   "name": "python3"
  },
  "language_info": {
   "codemirror_mode": {
    "name": "ipython",
    "version": 3
   },
   "file_extension": ".py",
   "mimetype": "text/x-python",
   "name": "python",
   "nbconvert_exporter": "python",
   "pygments_lexer": "ipython3",
   "version": "3.10.13"
  }
 },
 "nbformat": 4,
 "nbformat_minor": 2
}
