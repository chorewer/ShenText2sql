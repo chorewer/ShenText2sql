{
 "cells": [
  {
   "cell_type": "code",
   "execution_count": 1,
   "metadata": {},
   "outputs": [
    {
     "name": "stdout",
     "output_type": "stream",
     "text": [
      "successful load embedding model\n"
     ]
    }
   ],
   "source": [
    "import sys\n",
    "sys.path.append('/media/tj/zhijia-main/Langchain_shen')\n",
    "from database.db import ChromaVS"
   ]
  },
  {
   "cell_type": "code",
   "execution_count": 2,
   "metadata": {},
   "outputs": [
    {
     "name": "stdout",
     "output_type": "stream",
     "text": [
      "successful load embedding model\n"
     ]
    }
   ],
   "source": [
    "config = {\n",
    "        \"client\": \"persistent\",\n",
    "        \"path\": \"/media/tj/zhijia-main/Langchain_shen/py_data_cdb\",\n",
    "    }\n",
    "chroma_vs = ChromaVS(config)"
   ]
  },
  {
   "cell_type": "code",
   "execution_count": 25,
   "metadata": {},
   "outputs": [
    {
     "name": "stderr",
     "output_type": "stream",
     "text": [
      "  0%|          | 0/8 [00:00<?, ?it/s]Add of existing embedding ID: c87bb213-7125-5b5c-9545-ae7ec244e9a3\n",
      "Insert of existing embedding ID: c87bb213-7125-5b5c-9545-ae7ec244e9a3\n",
      " 12%|█▎        | 1/8 [00:00<00:00,  8.63it/s]Add of existing embedding ID: c9f9fcc0-cda9-5d3a-b16b-c69e89072a7d\n",
      "Insert of existing embedding ID: c9f9fcc0-cda9-5d3a-b16b-c69e89072a7d\n",
      " 25%|██▌       | 2/8 [00:00<00:00,  7.94it/s]Add of existing embedding ID: bc69009c-fc27-54a9-bd01-23f878a865aa\n",
      "Insert of existing embedding ID: bc69009c-fc27-54a9-bd01-23f878a865aa\n",
      " 38%|███▊      | 3/8 [00:00<00:00,  8.05it/s]Add of existing embedding ID: 51a20995-deaa-5ce0-ba4a-8dc754efafd5\n",
      "Insert of existing embedding ID: 51a20995-deaa-5ce0-ba4a-8dc754efafd5\n",
      " 50%|█████     | 4/8 [00:00<00:00,  8.41it/s]Add of existing embedding ID: 959b9224-45b8-5703-9cd1-0a84ba46d253\n",
      "Insert of existing embedding ID: 959b9224-45b8-5703-9cd1-0a84ba46d253\n",
      " 62%|██████▎   | 5/8 [00:00<00:00,  8.62it/s]Add of existing embedding ID: 3be5191a-67e5-566c-a13e-522fd2dbd805\n",
      "Insert of existing embedding ID: 3be5191a-67e5-566c-a13e-522fd2dbd805\n",
      " 75%|███████▌  | 6/8 [00:00<00:00,  8.47it/s]Add of existing embedding ID: d6a696c8-1cfc-50b9-aca7-c7ff93e39f34\n",
      "Insert of existing embedding ID: d6a696c8-1cfc-50b9-aca7-c7ff93e39f34\n",
      " 88%|████████▊ | 7/8 [00:00<00:00,  8.64it/s]Add of existing embedding ID: 814e75b1-8290-5412-af02-e05a36824087\n",
      "Insert of existing embedding ID: 814e75b1-8290-5412-af02-e05a36824087\n",
      "100%|██████████| 8/8 [00:00<00:00,  8.64it/s]\n"
     ]
    }
   ],
   "source": [
    "ddl_list = [\n",
    "    '''\n",
    "    CREATE TABLE public.assets (\n",
    "        asset_id serial4 NOT NULL,\n",
    "        company_id int4 NULL,\n",
    "        description varchar(255) NULL,\n",
    "        purchase_date date NULL,\n",
    "        \"cost\" numeric NULL,\n",
    "        \"condition\" varchar(100) NULL,\n",
    "        CONSTRAINT assets_pkey PRIMARY KEY (asset_id),\n",
    "        CONSTRAINT assets_company_id_fkey FOREIGN KEY (company_id) REFERENCES public.companies(company_id)\n",
    "    );\n",
    "    ''',\n",
    "    '''\n",
    "    CREATE TABLE public.companies (\n",
    "        company_id serial4 NOT NULL,\n",
    "        \"name\" varchar(255) NULL,\n",
    "        address varchar(255) NULL,\n",
    "        industry varchar(100) NULL,\n",
    "        revenue int8 NULL,\n",
    "        founded_year int4 NULL,\n",
    "        CONSTRAINT companies_pkey PRIMARY KEY (company_id)\n",
    "    );\n",
    "    ''',\n",
    "    '''\n",
    "    CREATE TABLE public.contracts (\n",
    "        contract_id serial4 NOT NULL,\n",
    "        company_id int4 NULL,\n",
    "        start_date date NULL,\n",
    "        end_date date NULL,\n",
    "        value numeric NULL,\n",
    "        terms text NULL,\n",
    "        CONSTRAINT contracts_pkey PRIMARY KEY (contract_id),\n",
    "        CONSTRAINT contracts_company_id_fkey FOREIGN KEY (company_id) REFERENCES public.companies(company_id)\n",
    "    );\n",
    "    ''',\n",
    "    '''\n",
    "    CREATE TABLE public.debts (\n",
    "        debt_id serial4 NOT NULL,\n",
    "        company_id int4 NULL,\n",
    "        amount numeric NULL,\n",
    "        issue_date date NULL,\n",
    "        maturity_date date NULL,\n",
    "        interest_rate float8 NULL,\n",
    "        CONSTRAINT debts_pkey PRIMARY KEY (debt_id),\n",
    "        CONSTRAINT debts_company_id_fkey FOREIGN KEY (company_id) REFERENCES public.companies(company_id)\n",
    "    );\n",
    "    ''',\n",
    "    '''\n",
    "    CREATE TABLE public.departments (\n",
    "        department_id serial4 NOT NULL,\n",
    "        company_id int4 NULL,\n",
    "        \"name\" varchar(255) NULL,\n",
    "        budget numeric NULL,\n",
    "        manager_id int4 NULL,\n",
    "        \"location\" varchar(255) NULL,\n",
    "        CONSTRAINT departments_pkey PRIMARY KEY (department_id),\n",
    "        CONSTRAINT departments_company_id_fkey FOREIGN KEY (company_id) REFERENCES public.companies(company_id),\n",
    "        CONSTRAINT departments_manager_id_fkey FOREIGN KEY (manager_id) REFERENCES public.employees(employee_id)\n",
    "    );\n",
    "    ''',\n",
    "    '''\n",
    "    CREATE TABLE public.employees (\n",
    "        employee_id serial4 NOT NULL,\n",
    "        company_id int4 NULL,\n",
    "        \"name\" varchar(255) NULL,\n",
    "        \"position\" varchar(100) NULL,\n",
    "        salary numeric NULL,\n",
    "        hire_date date NULL,\n",
    "        CONSTRAINT employees_pkey PRIMARY KEY (employee_id),\n",
    "        CONSTRAINT employees_company_id_fkey FOREIGN KEY (company_id) REFERENCES public.companies(company_id)\n",
    "    );\n",
    "    ''',\n",
    "    '''\n",
    "    CREATE TABLE public.projects (\n",
    "        project_id serial4 NOT NULL,\n",
    "        department_id int4 NULL,\n",
    "        \"name\" varchar(255) NULL,\n",
    "        start_date date NULL,\n",
    "        end_date date NULL,\n",
    "        budget numeric NULL,\n",
    "        CONSTRAINT projects_pkey PRIMARY KEY (project_id),\n",
    "        CONSTRAINT projects_department_id_fkey FOREIGN KEY (department_id) REFERENCES public.departments(department_id)\n",
    "    );\n",
    "    ''',\n",
    "    '''\n",
    "    CREATE TABLE public.transactions (\n",
    "        transaction_id serial4 NOT NULL,\n",
    "        asset_id int4 NULL,\n",
    "        \"date\" date NULL,\n",
    "        amount numeric NULL,\n",
    "        \"type\" varchar(50) NULL,\n",
    "        CONSTRAINT transactions_pkey PRIMARY KEY (transaction_id),\n",
    "        CONSTRAINT transactions_asset_id_fkey FOREIGN KEY (asset_id) REFERENCES public.assets(asset_id)\n",
    "    );\n",
    "    '''\n",
    "]\n",
    "from tqdm import tqdm\n",
    "for it in tqdm(ddl_list):\n",
    "    chroma_vs.add_ddl(ddl=it)"
   ]
  },
  {
   "cell_type": "code",
   "execution_count": 26,
   "metadata": {},
   "outputs": [
    {
     "name": "stderr",
     "output_type": "stream",
     "text": [
      "  0%|          | 0/7 [00:00<?, ?it/s]Add of existing embedding ID: 37a2f497-40d0-5c6f-8352-550881773650\n",
      "Insert of existing embedding ID: 37a2f497-40d0-5c6f-8352-550881773650\n",
      "Add of existing embedding ID: 92a01ab0-184d-57ce-8b18-db94f1094a30\n",
      "Insert of existing embedding ID: 92a01ab0-184d-57ce-8b18-db94f1094a30\n",
      " 29%|██▊       | 2/7 [00:00<00:00, 10.93it/s]Add of existing embedding ID: 1de3d3ce-50c8-55d7-90fc-a4ad8c9baf76\n",
      "Insert of existing embedding ID: 1de3d3ce-50c8-55d7-90fc-a4ad8c9baf76\n",
      "Add of existing embedding ID: 644f622d-c5e5-5e95-a343-1790a40c9c8a\n",
      "Insert of existing embedding ID: 644f622d-c5e5-5e95-a343-1790a40c9c8a\n",
      " 57%|█████▋    | 4/7 [00:00<00:00, 10.74it/s]Add of existing embedding ID: 20598165-00a0-5626-98eb-4cefbbdfecb6\n",
      "Insert of existing embedding ID: 20598165-00a0-5626-98eb-4cefbbdfecb6\n",
      "Add of existing embedding ID: c68a7b3a-0129-5796-9c89-d51a159c2554\n",
      "Insert of existing embedding ID: c68a7b3a-0129-5796-9c89-d51a159c2554\n"
     ]
    }
   ],
   "source": [
    "document_list = [\n",
    "    '''\n",
    "    The unit of the revenue column in the companies table is RMB\n",
    "    ''',\n",
    "\n",
    "    '''\n",
    "    The unit of the price column in the contract is ten thousand yuan\n",
    "    ''',\n",
    "\n",
    "    '''\n",
    "    In the debt table, each company_id may correspond to multiple debit id information\n",
    "    ''', \n",
    "\n",
    "    '''\n",
    "    In the debt statement, the unit of the total amount column is ten thousand yuan\n",
    "    ''',\n",
    "\n",
    "    '''\n",
    "    In the employee table, the correspondence between position positions is as follows: \"Position 0\" corresponds to the chairman, \"Position 1\" corresponds to the department head, \"Position 2\" corresponds to the team leader, \"Position 3\" corresponds to ordinary employees, and \"Position 4\" corresponds to outsourced employees\n",
    "    ''',\n",
    "\n",
    "    '''\n",
    "    In the project table, the unit of budget budget is yuan\n",
    "    ''',\n",
    "\n",
    "    '''\n",
    "    In the transaction table, the unit of total amount is yuan\n",
    "    '''\n",
    "]\n",
    "for it in tqdm(document_list):\n",
    "    chroma_vs.add_documentation(document=it)"
   ]
  },
  {
   "cell_type": "code",
   "execution_count": null,
   "metadata": {},
   "outputs": [
    {
     "name": "stderr",
     "output_type": "stream",
     "text": [
      "1it [00:00,  3.85it/s]\n"
     ]
    }
   ],
   "source": [
    "\n",
    "answer_list = [\n",
    "    '''\n",
    "    select e.employee_id\n",
    "    from employees e \n",
    "    where e.company_id in (\n",
    "    select a.company_id\n",
    "    from transactions t \n",
    "    join assets a on t.asset_id = a.asset_id \n",
    "    join companies c on a.company_id = c.company_id \n",
    "    group by a.company_id \n",
    "    having sum(t.amount) > 9995\n",
    "    );\n",
    "    ''',\n",
    "]\n",
    "question_list = []\n",
    "question_list = [\n",
    "    '''\n",
    "    List the names of employees in companies with transaction amounts above 9995\n",
    "    ''',\n",
    "],\n",
    "for it in tqdm(zip(question_list,answer_list)):\n",
    "    chroma_vs.add_question_sql(question=it[0], sql=it[1])"
   ]
  },
  {
   "cell_type": "code",
   "execution_count": 11,
   "metadata": {},
   "outputs": [
    {
     "data": {
      "text/html": [
       "<div>\n",
       "<style scoped>\n",
       "    .dataframe tbody tr th:only-of-type {\n",
       "        vertical-align: middle;\n",
       "    }\n",
       "\n",
       "    .dataframe tbody tr th {\n",
       "        vertical-align: top;\n",
       "    }\n",
       "\n",
       "    .dataframe thead th {\n",
       "        text-align: right;\n",
       "    }\n",
       "</style>\n",
       "<table border=\"1\" class=\"dataframe\">\n",
       "  <thead>\n",
       "    <tr style=\"text-align: right;\">\n",
       "      <th></th>\n",
       "      <th>id</th>\n",
       "      <th>question</th>\n",
       "      <th>content</th>\n",
       "      <th>training_data_type</th>\n",
       "    </tr>\n",
       "  </thead>\n",
       "  <tbody>\n",
       "    <tr>\n",
       "      <th>0</th>\n",
       "      <td>7f189ff0-defd-5746-8bfa-b8e970788f2a-sql</td>\n",
       "      <td>[\\n    List the names of employees in companie...</td>\n",
       "      <td>\\n    select e.employee_id\\n    from employees...</td>\n",
       "      <td>sql</td>\n",
       "    </tr>\n",
       "    <tr>\n",
       "      <th>0</th>\n",
       "      <td>3be5191a-67e5-566c-a13e-522fd2dbd805</td>\n",
       "      <td>None</td>\n",
       "      <td>\\n    CREATE TABLE public.employees (\\n       ...</td>\n",
       "      <td>ddl</td>\n",
       "    </tr>\n",
       "    <tr>\n",
       "      <th>1</th>\n",
       "      <td>51a20995-deaa-5ce0-ba4a-8dc754efafd5</td>\n",
       "      <td>None</td>\n",
       "      <td>\\n    CREATE TABLE public.debts (\\n        deb...</td>\n",
       "      <td>ddl</td>\n",
       "    </tr>\n",
       "    <tr>\n",
       "      <th>2</th>\n",
       "      <td>814e75b1-8290-5412-af02-e05a36824087</td>\n",
       "      <td>None</td>\n",
       "      <td>\\n    CREATE TABLE public.transactions (\\n    ...</td>\n",
       "      <td>ddl</td>\n",
       "    </tr>\n",
       "    <tr>\n",
       "      <th>3</th>\n",
       "      <td>959b9224-45b8-5703-9cd1-0a84ba46d253</td>\n",
       "      <td>None</td>\n",
       "      <td>\\n    CREATE TABLE public.departments (\\n     ...</td>\n",
       "      <td>ddl</td>\n",
       "    </tr>\n",
       "    <tr>\n",
       "      <th>4</th>\n",
       "      <td>bc69009c-fc27-54a9-bd01-23f878a865aa</td>\n",
       "      <td>None</td>\n",
       "      <td>\\n    CREATE TABLE public.contracts (\\n       ...</td>\n",
       "      <td>ddl</td>\n",
       "    </tr>\n",
       "    <tr>\n",
       "      <th>5</th>\n",
       "      <td>c87bb213-7125-5b5c-9545-ae7ec244e9a3</td>\n",
       "      <td>None</td>\n",
       "      <td>\\n    CREATE TABLE public.assets (\\n        as...</td>\n",
       "      <td>ddl</td>\n",
       "    </tr>\n",
       "    <tr>\n",
       "      <th>6</th>\n",
       "      <td>c9f9fcc0-cda9-5d3a-b16b-c69e89072a7d</td>\n",
       "      <td>None</td>\n",
       "      <td>\\n    CREATE TABLE public.companies (\\n       ...</td>\n",
       "      <td>ddl</td>\n",
       "    </tr>\n",
       "    <tr>\n",
       "      <th>7</th>\n",
       "      <td>d6a696c8-1cfc-50b9-aca7-c7ff93e39f34</td>\n",
       "      <td>None</td>\n",
       "      <td>\\n    CREATE TABLE public.projects (\\n        ...</td>\n",
       "      <td>ddl</td>\n",
       "    </tr>\n",
       "    <tr>\n",
       "      <th>0</th>\n",
       "      <td>1de3d3ce-50c8-55d7-90fc-a4ad8c9baf76</td>\n",
       "      <td>None</td>\n",
       "      <td>\\n    In the debt table, each company_id may c...</td>\n",
       "      <td>documentation</td>\n",
       "    </tr>\n",
       "    <tr>\n",
       "      <th>1</th>\n",
       "      <td>20598165-00a0-5626-98eb-4cefbbdfecb6</td>\n",
       "      <td>None</td>\n",
       "      <td>\\n    In the employee table, the correspondenc...</td>\n",
       "      <td>documentation</td>\n",
       "    </tr>\n",
       "    <tr>\n",
       "      <th>2</th>\n",
       "      <td>37a2f497-40d0-5c6f-8352-550881773650</td>\n",
       "      <td>None</td>\n",
       "      <td>\\n    The unit of the revenue column in the co...</td>\n",
       "      <td>documentation</td>\n",
       "    </tr>\n",
       "    <tr>\n",
       "      <th>3</th>\n",
       "      <td>644f622d-c5e5-5e95-a343-1790a40c9c8a</td>\n",
       "      <td>None</td>\n",
       "      <td>\\n    In the debt statement, the unit of the t...</td>\n",
       "      <td>documentation</td>\n",
       "    </tr>\n",
       "    <tr>\n",
       "      <th>4</th>\n",
       "      <td>9a586ca7-bf9d-506f-be1c-c2323b354ddb</td>\n",
       "      <td>None</td>\n",
       "      <td>\\n    In the transaction table, the unit of to...</td>\n",
       "      <td>documentation</td>\n",
       "    </tr>\n",
       "    <tr>\n",
       "      <th>5</th>\n",
       "      <td>c68a7b3a-0129-5796-9c89-d51a159c2554</td>\n",
       "      <td>None</td>\n",
       "      <td>\\n    In the project table, the unit of budget...</td>\n",
       "      <td>documentation</td>\n",
       "    </tr>\n",
       "    <tr>\n",
       "      <th>6</th>\n",
       "      <td>cd217d6d-89da-5eae-aa19-263584efa7b2</td>\n",
       "      <td>None</td>\n",
       "      <td>the price column in the contracts table have b...</td>\n",
       "      <td>documentation</td>\n",
       "    </tr>\n",
       "  </tbody>\n",
       "</table>\n",
       "</div>"
      ],
      "text/plain": [
       "                                         id  \\\n",
       "0  7f189ff0-defd-5746-8bfa-b8e970788f2a-sql   \n",
       "0      3be5191a-67e5-566c-a13e-522fd2dbd805   \n",
       "1      51a20995-deaa-5ce0-ba4a-8dc754efafd5   \n",
       "2      814e75b1-8290-5412-af02-e05a36824087   \n",
       "3      959b9224-45b8-5703-9cd1-0a84ba46d253   \n",
       "4      bc69009c-fc27-54a9-bd01-23f878a865aa   \n",
       "5      c87bb213-7125-5b5c-9545-ae7ec244e9a3   \n",
       "6      c9f9fcc0-cda9-5d3a-b16b-c69e89072a7d   \n",
       "7      d6a696c8-1cfc-50b9-aca7-c7ff93e39f34   \n",
       "0      1de3d3ce-50c8-55d7-90fc-a4ad8c9baf76   \n",
       "1      20598165-00a0-5626-98eb-4cefbbdfecb6   \n",
       "2      37a2f497-40d0-5c6f-8352-550881773650   \n",
       "3      644f622d-c5e5-5e95-a343-1790a40c9c8a   \n",
       "4      9a586ca7-bf9d-506f-be1c-c2323b354ddb   \n",
       "5      c68a7b3a-0129-5796-9c89-d51a159c2554   \n",
       "6      cd217d6d-89da-5eae-aa19-263584efa7b2   \n",
       "\n",
       "                                            question  \\\n",
       "0  [\\n    List the names of employees in companie...   \n",
       "0                                               None   \n",
       "1                                               None   \n",
       "2                                               None   \n",
       "3                                               None   \n",
       "4                                               None   \n",
       "5                                               None   \n",
       "6                                               None   \n",
       "7                                               None   \n",
       "0                                               None   \n",
       "1                                               None   \n",
       "2                                               None   \n",
       "3                                               None   \n",
       "4                                               None   \n",
       "5                                               None   \n",
       "6                                               None   \n",
       "\n",
       "                                             content training_data_type  \n",
       "0  \\n    select e.employee_id\\n    from employees...                sql  \n",
       "0  \\n    CREATE TABLE public.employees (\\n       ...                ddl  \n",
       "1  \\n    CREATE TABLE public.debts (\\n        deb...                ddl  \n",
       "2  \\n    CREATE TABLE public.transactions (\\n    ...                ddl  \n",
       "3  \\n    CREATE TABLE public.departments (\\n     ...                ddl  \n",
       "4  \\n    CREATE TABLE public.contracts (\\n       ...                ddl  \n",
       "5  \\n    CREATE TABLE public.assets (\\n        as...                ddl  \n",
       "6  \\n    CREATE TABLE public.companies (\\n       ...                ddl  \n",
       "7  \\n    CREATE TABLE public.projects (\\n        ...                ddl  \n",
       "0  \\n    In the debt table, each company_id may c...      documentation  \n",
       "1  \\n    In the employee table, the correspondenc...      documentation  \n",
       "2  \\n    The unit of the revenue column in the co...      documentation  \n",
       "3  \\n    In the debt statement, the unit of the t...      documentation  \n",
       "4  \\n    In the transaction table, the unit of to...      documentation  \n",
       "5  \\n    In the project table, the unit of budget...      documentation  \n",
       "6  the price column in the contracts table have b...      documentation  "
      ]
     },
     "execution_count": 11,
     "metadata": {},
     "output_type": "execute_result"
    }
   ],
   "source": [
    "chroma_vs.get_training_data()"
   ]
  },
  {
   "cell_type": "code",
   "execution_count": 10,
   "metadata": {},
   "outputs": [
    {
     "data": {
      "text/plain": [
       "'cd217d6d-89da-5eae-aa19-263584efa7b2'"
      ]
     },
     "execution_count": 10,
     "metadata": {},
     "output_type": "execute_result"
    }
   ],
   "source": [
    "chroma_vs.add_documentation(document=\"the price column in the contracts table have been divide 10000, when compare with constant please multiply 10000 to recovery\")"
   ]
  },
  {
   "cell_type": "code",
   "execution_count": 9,
   "metadata": {},
   "outputs": [
    {
     "data": {
      "text/plain": [
       "True"
      ]
     },
     "execution_count": 9,
     "metadata": {},
     "output_type": "execute_result"
    }
   ],
   "source": [
    "chroma_vs.remove_training_data(id=\"5eb86eb1-315c-572f-a80e-3905a28a0635\",type=\"doc\")"
   ]
  },
  {
   "cell_type": "code",
   "execution_count": null,
   "metadata": {},
   "outputs": [
    {
     "data": {
      "text/plain": [
       "['\\n    CREATE TABLE public.contracts (\\n        contract_id serial4 NOT NULL,\\n        company_id int4 NULL,\\n        start_date date NULL,\\n        end_date date NULL,\\n        value numeric NULL,\\n        terms text NULL,\\n        CONSTRAINT contracts_pkey PRIMARY KEY (contract_id),\\n        CONSTRAINT contracts_company_id_fkey FOREIGN KEY (company_id) REFERENCES public.companies(company_id)\\n    );\\n    ',\n",
       " '\\n    CREATE TABLE public.assets (\\n        asset_id serial4 NOT NULL,\\n        company_id int4 NULL,\\n        description varchar(255) NULL,\\n        purchase_date date NULL,\\n        \"cost\" numeric NULL,\\n        \"condition\" varchar(100) NULL,\\n        CONSTRAINT assets_pkey PRIMARY KEY (asset_id),\\n        CONSTRAINT assets_company_id_fkey FOREIGN KEY (company_id) REFERENCES public.companies(company_id)\\n    );\\n    ',\n",
       " '\\n    CREATE TABLE public.companies (\\n        company_id serial4 NOT NULL,\\n        \"name\" varchar(255) NULL,\\n        address varchar(255) NULL,\\n        industry varchar(100) NULL,\\n        revenue int8 NULL,\\n        founded_year int4 NULL,\\n        CONSTRAINT companies_pkey PRIMARY KEY (company_id)\\n    );\\n    ']"
      ]
     },
     "execution_count": 8,
     "metadata": {},
     "output_type": "execute_result"
    }
   ],
   "source": [
    "ddl_list = chroma_vs.get_related_ddl(question=\"When did the last contract exceeding 20 million occur, what industry is this company in, and what is its name?\")\n",
    "ddl_list"
   ]
  },
  {
   "cell_type": "code",
   "execution_count": null,
   "metadata": {},
   "outputs": [
    {
     "data": {
      "text/plain": [
       "['\\n    The unit of the price column in the contract is ten thousand yuan\\n    ',\n",
       " '\\n    The unit of the revenue column in the companies table is RMB\\n    ',\n",
       " '\\n    In the debt statement, the unit of the total amount column is ten thousand yuan\\n    ']"
      ]
     },
     "execution_count": 9,
     "metadata": {},
     "output_type": "execute_result"
    }
   ],
   "source": [
    "document_list = chroma_vs.get_related_documentation(question=\"When did the last contract exceeding 20 million occur, what industry is this company in, and what is its name?\")\n",
    "document_list"
   ]
  }
 ],
 "metadata": {
  "kernelspec": {
   "display_name": "base",
   "language": "python",
   "name": "python3"
  },
  "language_info": {
   "codemirror_mode": {
    "name": "ipython",
    "version": 3
   },
   "file_extension": ".py",
   "mimetype": "text/x-python",
   "name": "python",
   "nbconvert_exporter": "python",
   "pygments_lexer": "ipython3",
   "version": "3.10.13"
  }
 },
 "nbformat": 4,
 "nbformat_minor": 2
}
