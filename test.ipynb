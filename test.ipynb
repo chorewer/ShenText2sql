{
 "cells": [
  {
   "cell_type": "code",
   "execution_count": 2,
   "metadata": {},
   "outputs": [],
   "source": [
    "import re\n",
    "from langchain_core.messages import HumanMessage, AIMessage\n",
    "from langchain_community.utilities.sql_database import SQLDatabase\n",
    "from langchain.chains import create_sql_query_chain\n",
    "from langchain_community.tools.sql_database.tool import QuerySQLDataBaseTool\n",
    "from langchain_core.output_parsers import StrOutputParser\n",
    "from langchain_core.runnables import RunnablePassthrough, RunnableLambda\n",
    "from langchain_community.chat_message_histories import ChatMessageHistory\n",
    "from langchain_core.prompts import ChatPromptTemplate, MessagesPlaceholder,FewShotChatMessagePromptTemplate,PromptTemplate"
   ]
  },
  {
   "cell_type": "code",
   "execution_count": 9,
   "metadata": {},
   "outputs": [
    {
     "name": "stdout",
     "output_type": "stream",
     "text": [
      "本次数据库类型: postgresql\n",
      "可用的表格: ['assets', 'companies', 'contracts', 'debts', 'departments', 'employees', 'projects', 'transactions']\n"
     ]
    }
   ],
   "source": [
    "# 数据库连接信息\n",
    "db_user = \"postgres\"\n",
    "db_password = \"postgres\"  # 请更换成您的数据库密码\n",
    "db_host = \"localhost\"\n",
    "db_name = \"postgres\"\n",
    "\n",
    "# 初始化 langchain 的 SQLDatabase 连接\n",
    "# db = SQLDatabase.from_uri(f\"postgresql+psycopg2://{db_user}:{db_password}@{db_host}/{db_name}\")\n",
    "db = SQLDatabase.from_uri(f\"postgresql://{db_user}:{db_password}@{db_host}:5432/{db_name}\")\n",
    "# 输出数据库相关信息，以验证连接是否成功\n",
    "print(\"本次数据库类型:\", db.dialect)\n",
    "print(\"可用的表格:\", db.get_usable_table_names())"
   ]
  },
  {
   "cell_type": "code",
   "execution_count": 16,
   "metadata": {},
   "outputs": [],
   "source": [
    "# clean query 的对于用户问题文本进行清洗\n",
    "def clean_query(query):\n",
    "    query = query.replace(\"SQLResult:\", \"\").replace(\"```\", \"\").replace(\"sql\", \"\").replace(\"SQLQuery:\", \"\").replace(\"SQL\", \"\")\n",
    "    colon_index = query.find(':')\n",
    "    if colon_index != -1:\n",
    "        query = query[colon_index + 1:]\n",
    "    colon_index_1 = query.find('：')\n",
    "    if colon_index_1 != -1:\n",
    "        query = query[colon_index_1 + 1:]\n",
    "\n",
    "    # # 查找第一个大写的 SELECT，删除 SELECT 之前的所有内容\n",
    "    # select_match = re.search(r'SELECT', query)\n",
    "    # if select_match:\n",
    "    #     query = query[select_match.start():]\n",
    "    # # 查找 LIMIT 语句，确保是大写，并保留数字，删除其后的所有内容\n",
    "    # limit_match = re.search(r'LIMIT \\d+\\s*', query)\n",
    "    # if limit_match:\n",
    "    #     # 从数字后的空格开始删除\n",
    "    #     query = query[:limit_match.end()].strip()\n",
    "\n",
    "    semicolon_index = query.find(';')\n",
    "    if semicolon_index != -1:\n",
    "        query = query[:semicolon_index]\n",
    "\n",
    "    # 检查最末尾字符是否为英文句号或中文句号\n",
    "    while query.endswith('.') or query.endswith('。'):\n",
    "        # 向前找到最近的大写字母或中文字符\n",
    "        match = re.search(r'([A-Z]|[^\\x00-\\x7F])[^A-Z]*[。\\.]$', query)\n",
    "        if match:\n",
    "            # 删除从找到的字符到句号的所有内容\n",
    "            query = query[:match.start()]\n",
    "\n",
    "    return query.strip()  # 移除前后的空白字符以清洁结果"
   ]
  },
  {
   "cell_type": "code",
   "execution_count": 5,
   "metadata": {},
   "outputs": [],
   "source": [
    "import LLM_CUSTOM\n",
    "llm = LLM_CUSTOM.CustomLLM(n=10)"
   ]
  },
  {
   "cell_type": "code",
   "execution_count": 29,
   "metadata": {},
   "outputs": [],
   "source": [
    "# 创建数据库查询链\n",
    "from langchain_core.prompts import BasePromptTemplate\n",
    "template = '''Given an input question, first create a syntactically correct {dialect} query to run, then look at the results of the query and return the answer. Unless the user specifies in his question a specific number of examples he wishes to obtain, always limit your query to at most {top_k} results. You can order the results by a relevant column to return the most interesting examples in the database.\n",
    "\n",
    "            Never query for all the columns from a specific table, only ask for a the few relevant columns given the question.\n",
    "\n",
    "            Pay attention to use only the column names that you can see in the schema description. Be careful to not query for columns that do not exist. Also, pay attention to which column is in which table.\n",
    "\n",
    "            Use the following format:\n",
    "\n",
    "            \n",
    "            SQLQuery: SQL Query to run\n",
    "            \n",
    "            Only use the following tables:\n",
    "\n",
    "            {table_info}.\n",
    "\n",
    "            Question: {input}'''\n",
    "\n",
    "prompt = PromptTemplate.from_template(template)\n",
    "generate_query = create_sql_query_chain(llm, db, prompt=prompt)\n",
    "\n",
    "execute_query = QuerySQLDataBaseTool(db=db)\n",
    "\n",
    "answer_prompt = PromptTemplate.from_template(\n",
    "    \"\"\"Given the following user question, corresponding SQL query, and SQL result, answer the user question.\n",
    "\n",
    "Question: {question}\n",
    "SQL Query: {query}\n",
    "SQL Result: {result}\n",
    "Answer: \n",
    "\"\"\"\n",
    ")\n",
    "\n",
    "\n",
    "# 定义链式调用\n",
    "chain = (\n",
    "    RunnableLambda(\n",
    "        lambda context: {\n",
    "            'query': clean_query(generate_query.invoke(context)), \n",
    "            'question': context['question']\n",
    "        }) # 生成并清理查询，保持问题文本\n",
    "    |  \n",
    "    RunnableLambda(\n",
    "        lambda context: {\n",
    "            'query': context['query'], \n",
    "            'question': context['question'], \n",
    "            'print': print(\"SQL查询语句:\", context['query'])\n",
    "        }) # 打印查询，继续传递'query'和'question'\n",
    "    |  \n",
    "    RunnableLambda(\n",
    "        lambda context: {\n",
    "            'result': execute_query.invoke(context['query']), \n",
    "            'query': context['query'], \n",
    "            'question': context['question']\n",
    "        }) # 执行查询，维持'query', 'result'和'question'\n",
    "    |  \n",
    "    RunnableLambda(\n",
    "        lambda context: {\n",
    "            'question': context['question'], \n",
    "            'query': context['query'], \n",
    "            'result': context['result']\n",
    "        }) # 保持完整的上下文\n",
    "    |  \n",
    "    answer_prompt   # 应用最终的重构答案处理\n",
    "    | \n",
    "    llm\n",
    "    | \n",
    "    StrOutputParser() \n",
    ")"
   ]
  },
  {
   "cell_type": "code",
   "execution_count": 32,
   "metadata": {},
   "outputs": [],
   "source": [
    "import dashscope\n",
    "import os\n",
    "DASHSCOPE_API_KEY = os.getenv(\"DASHSCOPE_API_KEY\")\n",
    "dashscope.api_key=DASHSCOPE_API_KEY"
   ]
  },
  {
   "cell_type": "code",
   "execution_count": 34,
   "metadata": {},
   "outputs": [
    {
     "name": "stdout",
     "output_type": "stream",
     "text": [
      "SQL查询语句: SELECT c.company_id, c.name, COUNT(p.project_id) AS project_count \n",
      "FROM companies c \n",
      "JOIN departments d ON c.company_id = d.company_id \n",
      "JOIN projects p ON d.department_id = p.department_id \n",
      "GROUP BY c.company_id, c.name \n",
      "ORDER BY project_count DESC \n",
      "LIMIT 10\n",
      "千问回答: 前十个公司的项目数量如下：\n",
      "\n",
      "1. 公司22，项目数量：2\n",
      "2. 公司51，项目数量：2\n",
      "3. 公司176，项目数量：2\n",
      "4. 公司271，项目数量：2\n",
      "5. 公司70，项目数量：2\n",
      "6. 公司350，项目数量：2\n",
      "7. 公司273，项目数量：2\n",
      "8. 公司278，项目数量：2\n",
      "9. 公司292，项目数量：2\n",
      "10. 公司417，项目数量：2\n",
      "\n",
      "这是通过查询`companies`表，`departments`表，和`projects`表的连接，根据公司ID和名称分组，并计算每个公司的项目数量，然后按项目数量降序排序，最后限制结果为前10个。\n"
     ]
    }
   ],
   "source": [
    "\n",
    "# 调用链以生成最终答案\n",
    "# 问题点 1  不同表中内容id重名 \n",
    "final_answer = chain.invoke({\"question\": \"计算公司表前十个公司的项目数量，生成sql时一定要明确每一个调用的列名是从哪个具体表中调用的\"})\n",
    "print(\"千问回答:\", final_answer)"
   ]
  }
 ],
 "metadata": {
  "kernelspec": {
   "display_name": "base",
   "language": "python",
   "name": "python3"
  },
  "language_info": {
   "codemirror_mode": {
    "name": "ipython",
    "version": 3
   },
   "file_extension": ".py",
   "mimetype": "text/x-python",
   "name": "python",
   "nbconvert_exporter": "python",
   "pygments_lexer": "ipython3",
   "version": "3.10.13"
  }
 },
 "nbformat": 4,
 "nbformat_minor": 2
}
